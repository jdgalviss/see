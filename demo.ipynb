{
 "cells": [
  {
   "cell_type": "code",
   "execution_count": 2,
   "metadata": {},
   "outputs": [
    {
     "name": "stdout",
     "output_type": "stream",
     "text": [
      "OrderedDict([('the taylor series',\r\n",
      "              [OrderedDict([('bottom_right',\r\n",
      "                             (33.42036056518555, 54.91426086425781)),\r\n",
      "                            ('top_left', (0.0, 13.099967956542969))]),\r\n",
      "               OrderedDict([('bottom_right',\r\n",
      "                             (48.08125305175781, 54.99610137939453)),\r\n",
      "                            ('top_left',\r\n",
      "                             (15.16476821899414, 14.298919677734375))]),\r\n",
      "               OrderedDict([('bottom_right',\r\n",
      "                             (59.50168228149414, 54.7759895324707)),\r\n",
      "                            ('top_left',\r\n",
      "                             (29.097997665405273, 14.892784118652344))]),\r\n",
      "               OrderedDict([('bottom_right',\r\n",
      "                             (71.90055847167969, 54.35425567626953)),\r\n",
      "                            ('top_left',\r\n",
      "                             (41.55052947998047, 15.075931549072266))]),\r\n",
      "               OrderedDict([('bottom_right',\r\n",
      "                             (84.5180892944336, 53.793113708496094)),\r\n",
      "                            ('top_left',\r\n",
      "                             (53.749610900878906, 15.560674667358398))]),\r\n",
      "               OrderedDict([('bottom_right',\r\n",
      "                             (97.2145767211914, 53.5462532043457)),\r\n",
      "                            ('top_left',\r\n",
      "                             (66.42642211914062, 15.688774108886719))]),\r\n",
      "               OrderedDict([('bottom_right',\r\n",
      "                             (108.1023941040039, 53.669898986816406)),\r\n",
      "                            ('top_left',\r\n",
      "                             (78.33929443359375, 15.132957458496094))]),\r\n",
      "               OrderedDict([('bottom_right',\r\n",
      "                             (119.21145629882812, 53.47178649902344)),\r\n",
      "                            ('top_left',\r\n",
      "                             (89.71205139160156, 14.27566146850586))]),\r\n",
      "               OrderedDict([('bottom_right',\r\n",
      "                             (130.1903076171875, 53.40801239013672)),\r\n",
      "                            ('top_left',\r\n",
      "                             (100.5422592163086, 13.725996017456055))]),\r\n",
      "               OrderedDict([('bottom_right',\r\n",
      "                             (141.31549072265625, 53.35875701904297)),\r\n",
      "                            ('top_left',\r\n",
      "                             (111.31879425048828, 13.791643142700195))]),\r\n",
      "               OrderedDict([('bottom_right',\r\n",
      "                             (152.46849060058594, 53.644866943359375)),\r\n",
      "                            ('top_left', (122.14651489257812, 14.318359375))]),\r\n",
      "               OrderedDict([('bottom_right',\r\n",
      "                             (163.7550811767578, 53.45433807373047)),\r\n",
      "                            ('top_left',\r\n",
      "                             (133.65707397460938, 14.590055465698242))]),\r\n",
      "               OrderedDict([('bottom_right',\r\n",
      "                             (175.06065368652344, 53.130950927734375)),\r\n",
      "                            ('top_left',\r\n",
      "                             (144.67068481445312, 14.658538818359375))]),\r\n",
      "               OrderedDict([('bottom_right',\r\n",
      "                             (185.09033203125, 52.943817138671875)),\r\n",
      "                            ('top_left',\r\n",
      "                             (156.02545166015625, 14.990522384643555))]),\r\n",
      "               OrderedDict([('bottom_right',\r\n",
      "                             (196.48675537109375, 52.93463134765625)),\r\n",
      "                            ('top_left',\r\n",
      "                             (167.17694091796875, 14.340810775756836))]),\r\n",
      "               OrderedDict([('bottom_right', (200.0, 52.50062561035156)),\r\n",
      "                            ('top_left',\r\n",
      "                             (177.22715759277344, 14.000442504882812))]),\r\n",
      "               OrderedDict([('bottom_right', (200.0, 52.02937316894531)),\r\n",
      "                            ('top_left',\r\n",
      "                             (185.53411865234375, 14.35714340209961))]),\r\n",
      "               OrderedDict([('bottom_right', (200.0, 51.781639099121094)),\r\n",
      "                            ('top_left',\r\n",
      "                             (191.5880889892578, 14.827028274536133))]),\r\n",
      "               OrderedDict([('bottom_right', (200.0, 51.74358367919922)),\r\n",
      "                            ('top_left',\r\n",
      "                             (195.84715270996094, 15.315156936645508))]),\r\n",
      "               OrderedDict([('bottom_right', (200.0, 51.881141662597656)),\r\n",
      "                            ('top_left',\r\n",
      "                             (198.78060913085938, 15.774602890014648))]),\r\n",
      "               OrderedDict([('bottom_right', (200.0, 52.162315368652344)),\r\n",
      "                            ('top_left', (200.0, 16.19150161743164))]),\r\n",
      "               OrderedDict([('bottom_right', (200.0, 52.5539665222168)),\r\n",
      "                            ('top_left', (200.0, 16.57077407836914))]),\r\n",
      "               OrderedDict([('bottom_right', (200.0, 54.77203369140625)),\r\n",
      "                            ('top_left', (200.0, 18.610971450805664))])])])\r\n"
     ]
    }
   ],
   "source": [
    "!python3 ./chainer/text_recognition_demo.py ./shared/text_recognition_model/model model_190000.npz ./shared/006.png ./datasets/textrec/ctc_char_map.json "
   ]
  },
  {
   "cell_type": "code",
   "execution_count": null,
   "metadata": {},
   "outputs": [],
   "source": []
  }
 ],
 "metadata": {
  "kernelspec": {
   "display_name": "Python 3",
   "language": "python",
   "name": "python3"
  },
  "language_info": {
   "codemirror_mode": {
    "name": "ipython",
    "version": 3
   },
   "file_extension": ".py",
   "mimetype": "text/x-python",
   "name": "python",
   "nbconvert_exporter": "python",
   "pygments_lexer": "ipython3",
   "version": "3.5.2"
  }
 },
 "nbformat": 4,
 "nbformat_minor": 2
}
